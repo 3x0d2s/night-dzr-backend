{
 "cells": [
  {
   "cell_type": "code",
   "execution_count": 1,
   "id": "031d0fbe-36fc-45d7-9632-971c9edf4313",
   "metadata": {
    "tags": []
   },
   "outputs": [],
   "source": [
    "from sqlalchemy.ext.asyncio import create_async_engine, async_sessionmaker\n",
    "from sqlalchemy.orm import DeclarativeBase\n",
    "from src.config import config\n",
    "from src.database import Base, AsyncSessionLocal"
   ]
  },
  {
   "cell_type": "code",
   "execution_count": 2,
   "id": "74d83f67-27e8-4dbb-bd35-c648fe73a3fd",
   "metadata": {
    "tags": []
   },
   "outputs": [],
   "source": [
    "from fastapi_users.db import SQLAlchemyBaseUserTable\n",
    "from sqlalchemy import Boolean, Integer, String, BigInteger, ForeignKey, Table, Column\n",
    "from sqlalchemy.orm import Mapped, mapped_column, relationship\n",
    "\n",
    "\n",
    "class User(SQLAlchemyBaseUserTable[int], Base):\n",
    "    __tablename__ = \"User\"\n",
    "    id: Mapped[int] = mapped_column(Integer, primary_key=True, index=True)\n",
    "    name: Mapped[str] = mapped_column(String(length=32), nullable=False)\n",
    "    surname: Mapped[str] = mapped_column(String(length=32), nullable=False)\n",
    "    patronymic: Mapped[str] = mapped_column(String(length=32), nullable=False)\n",
    "    email: Mapped[str] = mapped_column(String(length=320), unique=True, index=True, nullable=False)\n",
    "    phone_number: Mapped[str] = mapped_column(String(length=11), nullable=False)\n",
    "    hashed_password: Mapped[str] = mapped_column(String(length=1024), nullable=False)\n",
    "    games_played: Mapped[int] = mapped_column(Integer, nullable=False, default=0)\n",
    "    win_games: Mapped[int] = mapped_column(Integer, nullable=False, default=0)\n",
    "    # FastAPI-Users defaults:\n",
    "    is_active: Mapped[bool] = mapped_column(Boolean, default=True, nullable=False)\n",
    "    is_superuser: Mapped[bool] = mapped_column(Boolean, default=False, nullable=False)\n",
    "    is_verified: Mapped[bool] = mapped_column(Boolean, default=False, nullable=False)\n",
    "    \n",
    "association_table = Table(\n",
    "    \"TeamUsers\",\n",
    "    Base.metadata,\n",
    "    Column(\"team_id\", ForeignKey(\"Team.id\")),\n",
    "    Column(\"user_id\", ForeignKey(\"User.id\")),\n",
    ")\n",
    "    \n",
    "class Team(Base):\n",
    "    __tablename__ = \"Team\"\n",
    "    id: Mapped[int] = mapped_column(Integer, primary_key=True, index=True)\n",
    "    owner_id: Mapped[int] = mapped_column(ForeignKey(\"User.id\"), nullable=True)\n",
    "    name: Mapped[str] = mapped_column(String(length=32), nullable=False)\n",
    "    games_played: Mapped[int] = mapped_column(Integer, nullable=False, default=0)\n",
    "    win_games: Mapped[int] = mapped_column(Integer, nullable=False, default=0)\n",
    "    users: Mapped[list[User]] = relationship(lazy=\"raise\", secondary=association_table)\n"
   ]
  },
  {
   "cell_type": "code",
   "execution_count": 5,
   "id": "42c92357-3d49-430f-8863-76fbdfb5c3ba",
   "metadata": {
    "tags": []
   },
   "outputs": [
    {
     "name": "stdout",
     "output_type": "stream",
     "text": [
      "2023-04-30 14:56:33,027 INFO sqlalchemy.engine.Engine BEGIN (implicit)\n",
      "2023-04-30 14:56:33,028 INFO sqlalchemy.engine.Engine SELECT \"Team\".id, \"Team\".owner_id, \"Team\".name, \"Team\".games_played, \"Team\".win_games \n",
      "FROM \"Team\" \n",
      "WHERE \"Team\".id = $1::INTEGER\n",
      "2023-04-30 14:56:33,029 INFO sqlalchemy.engine.Engine [cached since 26.71s ago] (1,)\n",
      "2023-04-30 14:56:33,034 INFO sqlalchemy.engine.Engine SELECT \"Team_1\".id AS \"Team_1_id\", \"User\".id AS \"User_id\", \"User\".name AS \"User_name\", \"User\".surname AS \"User_surname\", \"User\".patronymic AS \"User_patronymic\", \"User\".email AS \"User_email\", \"User\".phone_number AS \"User_phone_number\", \"User\".hashed_password AS \"User_hashed_password\", \"User\".games_played AS \"User_games_played\", \"User\".win_games AS \"User_win_games\", \"User\".is_active AS \"User_is_active\", \"User\".is_superuser AS \"User_is_superuser\", \"User\".is_verified AS \"User_is_verified\" \n",
      "FROM \"Team\" AS \"Team_1\" JOIN \"TeamUsers\" AS \"TeamUsers_1\" ON \"Team_1\".id = \"TeamUsers_1\".team_id JOIN \"User\" ON \"User\".id = \"TeamUsers_1\".user_id \n",
      "WHERE \"Team_1\".id IN ($1::INTEGER)\n",
      "2023-04-30 14:56:33,035 INFO sqlalchemy.engine.Engine [cached since 26.71s ago] (1,)\n",
      "2023-04-30 14:56:33,039 INFO sqlalchemy.engine.Engine SELECT \"User\".id, \"User\".name, \"User\".surname, \"User\".patronymic, \"User\".email, \"User\".phone_number, \"User\".hashed_password, \"User\".games_played, \"User\".win_games, \"User\".is_active, \"User\".is_superuser, \"User\".is_verified \n",
      "FROM \"User\" \n",
      "WHERE \"User\".id = $1::INTEGER\n",
      "2023-04-30 14:56:33,040 INFO sqlalchemy.engine.Engine [cached since 26.7s ago] (1,)\n",
      "[<__main__.User object at 0x000001625BE17B50>]\n",
      "2023-04-30 14:56:33,045 INFO sqlalchemy.engine.Engine INSERT INTO \"TeamUsers\" (team_id, user_id) VALUES ($1::INTEGER, $2::INTEGER)\n",
      "2023-04-30 14:56:33,045 INFO sqlalchemy.engine.Engine [generated in 0.00071s] (1, 1)\n",
      "2023-04-30 14:56:33,049 INFO sqlalchemy.engine.Engine COMMIT\n"
     ]
    }
   ],
   "source": [
    "from sqlalchemy import select, exists, func\n",
    "from sqlalchemy.orm import selectinload\n",
    "\n",
    "async def test():\n",
    "    async with AsyncSessionLocal() as db:\n",
    "        query = select(Team).filter(Team.id == 1).options(selectinload(Team.users))\n",
    "        result = await db.execute(query)\n",
    "        team = result.scalars().first()\n",
    "        \n",
    "        query = select(User).filter(User.id == 1)\n",
    "        result = await db.execute(query)\n",
    "        user = result.scalars().first()\n",
    "        \n",
    "        team.users.append(user)\n",
    "        \n",
    "        print(team.users)\n",
    "        \n",
    "        await db.commit()\n",
    "        \n",
    "await test()"
   ]
  },
  {
   "cell_type": "code",
   "execution_count": null,
   "id": "72f4d44a-07fd-433e-ba21-84207d8589ee",
   "metadata": {
    "tags": []
   },
   "outputs": [],
   "source": [
    "await engine.dispose()"
   ]
  }
 ],
 "metadata": {
  "kernelspec": {
   "display_name": "Python 3 (ipykernel)",
   "language": "python",
   "name": "python3"
  },
  "language_info": {
   "codemirror_mode": {
    "name": "ipython",
    "version": 3
   },
   "file_extension": ".py",
   "mimetype": "text/x-python",
   "name": "python",
   "nbconvert_exporter": "python",
   "pygments_lexer": "ipython3",
   "version": "3.11.3"
  }
 },
 "nbformat": 4,
 "nbformat_minor": 5
}
